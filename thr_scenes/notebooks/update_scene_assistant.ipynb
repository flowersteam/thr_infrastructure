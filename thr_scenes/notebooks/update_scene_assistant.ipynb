{
 "cells": [
  {
   "cell_type": "markdown",
   "metadata": {},
   "source": [
    "# Assistant to update the poses of an existing scene"
   ]
  },
  {
   "cell_type": "markdown",
   "metadata": {},
   "source": [
    "Add the objects to track to parameter `/optitrack/objects`\n",
    "\n",
    "Start the optitrack_publisher:\n",
    "`roslaunch optitrack_publisher optitrack_publisher.launch ip:=<VRPN_IP>`"
   ]
  },
  {
   "cell_type": "code",
   "execution_count": 1,
   "metadata": {},
   "outputs": [],
   "source": [
    "import rospy\n",
    "import rospkg\n",
    "import json\n",
    "import yaml\n",
    "from os.path import join\n",
    "from tf import TransformListener"
   ]
  },
  {
   "cell_type": "code",
   "execution_count": 2,
   "metadata": {},
   "outputs": [],
   "source": [
    "rospy.init_node('update_scene_assistant')"
   ]
  },
  {
   "cell_type": "code",
   "execution_count": 3,
   "metadata": {},
   "outputs": [],
   "source": [
    "rospack = rospkg.RosPack()\n",
    "tfl = TransformListener()\n",
    "world = 'base'"
   ]
  },
  {
   "cell_type": "code",
   "execution_count": 4,
   "metadata": {},
   "outputs": [],
   "source": [
    "with open(rospack.get_path('thr_scenes') + '/config/scenes.yaml') as f:\n",
    "    scenes = yaml.load(f)"
   ]
  },
  {
   "cell_type": "code",
   "execution_count": 5,
   "metadata": {},
   "outputs": [
    {
     "name": "stdout",
     "output_type": "stream",
     "text": [
      "Type the name of the scene to update among ['pobax', 'toolbox', 'romeo']: pobax\n"
     ]
    }
   ],
   "source": [
    "scene = raw_input('Type the name of the scene to update among {}: '.format([scene for scene in scenes]))\n",
    "assert scene in scenes"
   ]
  },
  {
   "cell_type": "code",
   "execution_count": 6,
   "metadata": {},
   "outputs": [
    {
     "name": "stdout",
     "output_type": "stream",
     "text": [
      "Objects of scene pobax are:\n",
      " ['/culbuto/1', '/culbuto/2', '/table']\n"
     ]
    }
   ],
   "source": [
    "objects = scenes[scene]\n",
    "print('Objects of scene {} are:\\n {}'.format(scene, objects))"
   ]
  },
  {
   "cell_type": "code",
   "execution_count": 7,
   "metadata": {},
   "outputs": [],
   "source": [
    "rospy.set_param('/optitrack/objects', objects)"
   ]
  },
  {
   "cell_type": "markdown",
   "metadata": {},
   "source": [
    "---> Now run the publisher: roslaunch optitrack_publisher optitrack_publisher.launch <---"
   ]
  },
  {
   "cell_type": "code",
   "execution_count": 8,
   "metadata": {},
   "outputs": [],
   "source": [
    "with open(join(rospack.get_path('thr_scenes'), 'config', scene, 'poses.json')) as f:\n",
    "    poses = json.load(f)"
   ]
  },
  {
   "cell_type": "code",
   "execution_count": 9,
   "metadata": {},
   "outputs": [],
   "source": [
    "def update_action(poses, obj):\n",
    "    for action in poses:\n",
    "        if action == 'grasp':\n",
    "            for pose_index, pose in enumerate(poses[action]):\n",
    "                raw_input(\"Please go to GRASP approach pose #{}/{} and press <enter>\".format(pose_index + 1, len(poses[action])))\n",
    "                constraint = tfl.lookupTransform(obj, \"right_gripper\", rospy.Time(0))\n",
    "                pose[\"approach\"] = constraint\n",
    "                raw_input(\"Please go to GRASP contact pose #{}/{} and press <enter>\".format(pose_index + 1, len(poses[action])))\n",
    "                constraint = tfl.lookupTransform(obj, \"right_gripper\", rospy.Time(0))\n",
    "                pose[\"grasp\"] = constraint[0]\n",
    "        elif action == 'bring':\n",
    "            raw_input(\"Please go to bring pose wrt wrist and press <enter>\")\n",
    "            constraint = tfl.lookupTransform(\"/human/wrist\", obj, rospy.Time(0))\n",
    "            poses[action][\"/human/wrist\"] = constraint\n",
    "        elif action == 'place':\n",
    "            for slave in poses[action]:\n",
    "                raise NotImplementedError(\"TODO one via for every slave\")\n",
    "                if slave == 'via':\n",
    "                    pass\n",
    "                else:\n",
    "                    pass\n",
    "        elif action == 'pick':\n",
    "            for pose_index, pose in enumerate(poses[action]):\n",
    "                raw_input(\"Please go to PICK approach pose #{}/{} and press <enter>\".format(pose_index + 1, len(poses[action])))\n",
    "                constraint = tfl.lookupTransform(obj, \"left_gripper\", rospy.Time(0))\n",
    "                pose[\"approach\"] = constraint\n",
    "                raw_input(\"Please go to PICK contact pose #{}/{} and press <enter>\".format(pose_index + 1, len(poses[action])))\n",
    "                constraint = tfl.lookupTransform(obj, \"left_gripper\", rospy.Time(0))\n",
    "                pose[\"contact\"] = constraint[0]\n",
    "        elif action == 'give':\n",
    "            raw_input(\"Please go to GIVE pose wrt wrist and press <enter>\")\n",
    "            constraint = tfl.lookupTransform(\"/human/wrist\", obj, rospy.Time(0))\n",
    "            poses[action][\"/human/wrist\"] = constraint\n",
    "        elif action == 'hold':\n",
    "            for pose_index, pose in enumerate(poses[action]):\n",
    "                raw_input(\"Please go to HOLD approach pose #{}/{} and press <enter>\".format(pose_index + 1, len(poses[action])))\n",
    "                constraint = tfl.lookupTransform(obj, \"right_gripper\", rospy.Time(0))\n",
    "                pose[\"approach\"] = constraint\n",
    "                raw_input(\"Please go to HOLD contact pose #{}/{} and press <enter>\".format(pose_index + 1, len(poses[action])))\n",
    "                constraint = tfl.lookupTransform(obj, \"right_gripper\", rospy.Time(0))\n",
    "                pose[\"contact\"] = constraint[0]\n",
    "        elif action == 'constraints':\n",
    "            for pose_index, pose_dict in enumerate(poses[action]):\n",
    "                for slave in pose_dict:\n",
    "                    raw_input(\"Please place slave {} wrt master {} in pose #{}/{} and press <enter>\".format(slave, obj,\n",
    "                                                                                                            pose_index + 1, len(poses[action])))\n",
    "                    constraint = tfl.lookupTransform(obj, slave, rospy.Time(0))\n",
    "                    pose_dict[slave] = constraint\n",
    "        else:\n",
    "            raise NotImplementedError(\"Sorry, the assistant does not know action {} yet\".format(action))"
   ]
  },
  {
   "cell_type": "code",
   "execution_count": 11,
   "metadata": {},
   "outputs": [
    {
     "name": "stdout",
     "output_type": "stream",
     "text": [
      "Do you want to update object /culbuto/2? [y/[n]/q] y\n",
      "Please go to GRASP approach pose #1/1 and press <enter>\n",
      "Please go to GRASP contact pose #1/1 and press <enter>\n",
      "------------------------------------------\n",
      "Do you want to update object /culbuto/1? [y/[n]/q] y\n",
      "Please go to GRASP approach pose #1/1 and press <enter>\n",
      "Please go to GRASP contact pose #1/1 and press <enter>\n",
      "------------------------------------------\n",
      "Do you want to update object /table? [y/[n]/q] y\n"
     ]
    },
    {
     "ename": "NotImplementedError",
     "evalue": "TODO one via for every slave",
     "output_type": "error",
     "traceback": [
      "\u001b[0;31m---------------------------------------------------------------------------\u001b[0m",
      "\u001b[0;31mNotImplementedError\u001b[0m                       Traceback (most recent call last)",
      "\u001b[0;32m<ipython-input-11-e695699d64f8>\u001b[0m in \u001b[0;36m<module>\u001b[0;34m()\u001b[0m\n\u001b[1;32m      6\u001b[0m         \u001b[0;32mbreak\u001b[0m\u001b[0;34m\u001b[0m\u001b[0m\n\u001b[1;32m      7\u001b[0m     \u001b[0;32melif\u001b[0m \u001b[0manswer\u001b[0m \u001b[0;34m==\u001b[0m \u001b[0;34m'y'\u001b[0m\u001b[0;34m:\u001b[0m\u001b[0;34m\u001b[0m\u001b[0m\n\u001b[0;32m----> 8\u001b[0;31m         \u001b[0mupdate_action\u001b[0m\u001b[0;34m(\u001b[0m\u001b[0mposes\u001b[0m\u001b[0;34m[\u001b[0m\u001b[0mobj\u001b[0m\u001b[0;34m]\u001b[0m\u001b[0;34m,\u001b[0m \u001b[0mobj\u001b[0m\u001b[0;34m)\u001b[0m\u001b[0;34m\u001b[0m\u001b[0m\n\u001b[0m\u001b[1;32m      9\u001b[0m     \u001b[0;32melse\u001b[0m\u001b[0;34m:\u001b[0m\u001b[0;34m\u001b[0m\u001b[0m\n\u001b[1;32m     10\u001b[0m         \u001b[0;32mprint\u001b[0m \u001b[0;34m\"Warning, you might have issues if {} is also the slave of another object\"\u001b[0m\u001b[0;34m.\u001b[0m\u001b[0mformat\u001b[0m\u001b[0;34m(\u001b[0m\u001b[0mobj\u001b[0m\u001b[0;34m)\u001b[0m\u001b[0;34m\u001b[0m\u001b[0m\n",
      "\u001b[0;32m<ipython-input-9-c8692f3c1efb>\u001b[0m in \u001b[0;36mupdate_action\u001b[0;34m(poses, obj)\u001b[0m\n\u001b[1;32m     15\u001b[0m         \u001b[0;32melif\u001b[0m \u001b[0maction\u001b[0m \u001b[0;34m==\u001b[0m \u001b[0;34m'place'\u001b[0m\u001b[0;34m:\u001b[0m\u001b[0;34m\u001b[0m\u001b[0m\n\u001b[1;32m     16\u001b[0m             \u001b[0;32mfor\u001b[0m \u001b[0mslave\u001b[0m \u001b[0;32min\u001b[0m \u001b[0mposes\u001b[0m\u001b[0;34m[\u001b[0m\u001b[0maction\u001b[0m\u001b[0;34m]\u001b[0m\u001b[0;34m:\u001b[0m\u001b[0;34m\u001b[0m\u001b[0m\n\u001b[0;32m---> 17\u001b[0;31m                 \u001b[0;32mraise\u001b[0m \u001b[0mNotImplementedError\u001b[0m\u001b[0;34m(\u001b[0m\u001b[0;34m\"TODO one via for every slave\"\u001b[0m\u001b[0;34m)\u001b[0m\u001b[0;34m\u001b[0m\u001b[0m\n\u001b[0m\u001b[1;32m     18\u001b[0m                 \u001b[0;32mif\u001b[0m \u001b[0mslave\u001b[0m \u001b[0;34m==\u001b[0m \u001b[0;34m'via'\u001b[0m\u001b[0;34m:\u001b[0m\u001b[0;34m\u001b[0m\u001b[0m\n\u001b[1;32m     19\u001b[0m                     \u001b[0;32mpass\u001b[0m\u001b[0;34m\u001b[0m\u001b[0m\n",
      "\u001b[0;31mNotImplementedError\u001b[0m: TODO one via for every slave"
     ]
    }
   ],
   "source": [
    "answer = ''\n",
    "for obj in poses:\n",
    "    if answer != 'q':\n",
    "        answer = raw_input('Do you want to update object {}? [y/[n]/q] '.format(obj)).lower()\n",
    "    if answer == 'q':\n",
    "        break\n",
    "    elif answer == 'y':\n",
    "        update_action(poses[obj], obj)\n",
    "    else:\n",
    "        print \"Warning, you might have issues if {} is also the slave of another object\".format(obj)\n",
    "    print \"------------------------------------------\""
   ]
  },
  {
   "cell_type": "code",
   "execution_count": 12,
   "metadata": {},
   "outputs": [],
   "source": [
    "with open(join(rospack.get_path('thr_scenes'), 'config', scene, 'poses.json'), 'w') as f:\n",
    "    json.dump(poses, f, indent=4)"
   ]
  },
  {
   "cell_type": "code",
   "execution_count": null,
   "metadata": {},
   "outputs": [],
   "source": []
  }
 ],
 "metadata": {
  "kernelspec": {
   "display_name": "Python 2",
   "language": "python",
   "name": "python2"
  },
  "language_info": {
   "codemirror_mode": {
    "name": "ipython",
    "version": 2
   },
   "file_extension": ".py",
   "mimetype": "text/x-python",
   "name": "python",
   "nbconvert_exporter": "python",
   "pygments_lexer": "ipython2",
   "version": "2.7.12"
  }
 },
 "nbformat": 4,
 "nbformat_minor": 1
}
